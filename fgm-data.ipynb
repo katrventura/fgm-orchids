{
 "cells": [
  {
   "cell_type": "markdown",
   "metadata": {},
   "source": [
    "# Female Genital Mutilation\n",
    "\n",
    "The World Health Organization defines Female Genital Mutilation (FGM) as all procedures involving partial or total removal of the external female genitalia or other injury to the female genital organs for non-medical reasons. This data project aims to visualize the occurence of Female Genital Mutilation in recent years, and create a visual understanding of what the procedure involves.\n",
    "\n",
    "This project uses data from UNFPA-UNICEF. \n",
    "\n"
   ]
  },
  {
   "cell_type": "code",
   "execution_count": null,
   "metadata": {
    "vscode": {
     "languageId": "plaintext"
    }
   },
   "outputs": [],
   "source": []
  },
  {
   "cell_type": "markdown",
   "metadata": {},
   "source": [
    "The four major types of FGM, and their subtypes, are:\n",
    "\n",
    "Type I. Partial or total removal of the clitoral glans (the external and visible part of the clitoris, which is a sensitive part of the female genitals, with the function of providing sexual pleasure to the woman), and/or the prepuce/clitoral hood (the fold of skin surrounding the clitoral glans). When it is important to distinguish between the major variations of Type I FGM, the following subdivisions are used:\n",
    "Type Ia. Removal of the prepuce/clitoral hood only.\n",
    "Type Ib. Removal of the clitoral glans with the prepuce/clitoral hood.\n",
    "\n",
    "Type II.  Partial or total removal of the clitoral glans and the labia minora (the inner folds of the vulva), with or without removal of the labia majora (the outer folds of skin of the vulva). When it is important to distinguish between the major variations of Type II FGM, the following subdivisions are used:\n",
    "Type IIa. Removal of the labia minora only.\n",
    "Type IIb. Partial or total removal of the clitoral glans and the labia minora (prepuce/clitoral hood may be affected).\n",
    "Type IIc. Partial or total removal of the clitoral glans, the labia minora and the labia majora (prepuce/clitoral hood may be affected).\n",
    "\n",
    "Type III. (Often referred to as infibulation). Narrowing of the vaginal opening with the creation of a covering seal. The seal is formed by cutting and repositioning the labia minora, or labia majora. The covering of the vaginal opening is done with or without removal of the clitoral prepuce/clitoral hood and glans (Type I FGM). When it is important to distinguish between variations of Type III FGM, the following subdivisions are used:\n",
    "Type IIIa. Removal and repositioning of the labia minora.\n",
    "Type IIIb. Removal and repositioning of the labia majora.\n",
    "\n",
    "Type IV. All other harmful procedures to the female genitalia for non-medical purposes, for example pricking, piercing, incising, scraping and cauterization."
   ]
  },
  {
   "cell_type": "markdown",
   "metadata": {},
   "source": [
    "According to the 2021 edition of the World Bank’s “Compendium of International and National Legal Frameworks on Female Genital Mutilation”, 84 countries in the world have domestic legislation that either specifically prohibits the practice of female genital mutilation or allows it to be prosecuted through other laws, such as the criminal or penal code, child protections laws, violence against women laws or domestic violence laws.\n",
    "\n",
    "Africa: Algeria (2015); Benin (2003); Burkina Faso (1996); Cameroon (2016); Central African Republic (1996, 2006); Chad (2002); Comoros (1982); Congo Republic (2002); Côte d'Ivoire (1998); Djibouti (1994, 2009); Democratic Republic of the Congo (2006); Egypt (2008); Eritrea (2007, 2015); Ethiopia (2004); The Gambia (2015); Ghana (1994, 2007); Guinea (1965, 2000, 2016); Guinea Bissau (2011); Liberia (2018, by one-year executive order); Kenya (2001, 2011); Malawi (2000); Mauritania (2005); Mozambique (2014); Niger (2003); Nigeria (2015); Senegal (1999); Sierra Leone (2007); Somalia (2001)*; South Africa (2005); Sudan (2020); South Sudan (2008); Tanzania (1998); Togo (1998); Uganda (2010); Zambia (2005, 2011); Zimbabwe (2006). \n",
    "\n",
    "Others: Australia (6 out of 8 states between 1994-2006); Austria (1974, 2002); Bahrain (1976); Belgium (2000); Brazil (1984); Bulgaria (1968); Canada (1997); Colombia (2006, Resolution No. 001 of 2009 by indigenous authorities); Croatia (2013); Cyprus (2003); Czech Republic (2009); Denmark (2003); Estonia (2001); Finland (2013); France (1979); Hungary (2012);  India (1860); Italy (2006); Iran (1991); Iraq (2011, only applicable in Kurdistan); Ireland (2012); Kuwait (2015); Georgia (Germany (2013); Greece (1951); Latvia (2005); Lithuania (2000); Luxembourg (on mutilations only, not specifically on 'genital' mutilation, 2008); Malta (1854); Mexico (2020); Netherlands (1881); New Zealand (1995); Norway (1995); Oman (2019), Pakistan (1860); Panama (2007); Peru (1991); Philippines (1930); Poland (2003); Portugal (2007); Romania (2017); Slovakia (2005); Slovenia (2008); Spain (2003); Sweden (1982,1998); Switzerland (2005, 2012); Trinidad and Tobago (2012); United Kingdom (1985; 2003); United States (1996)."
   ]
  },
  {
   "cell_type": "markdown",
   "metadata": {},
   "source": []
  }
 ],
 "metadata": {
  "language_info": {
   "name": "python"
  }
 },
 "nbformat": 4,
 "nbformat_minor": 2
}
